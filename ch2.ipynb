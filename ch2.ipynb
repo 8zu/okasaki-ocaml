{
 "cells": [
  {
   "cell_type": "markdown",
   "metadata": {},
   "source": [
    "# Chapter 2 Persistence\n",
    "\n",
    "Functional data structures need to have persistent property to be useful to functional programmers, which means update to them requires *copying* to preserve the old values. *Sharing* is the design technique to minimize the time and space cost of copying."
   ]
  },
  {
   "cell_type": "markdown",
   "metadata": {},
   "source": [
    "## Lists\n",
    "\n",
    "A list can be used to implement a stack, queue, deque, or a concatenable list. First define the interface"
   ]
  },
  {
   "cell_type": "code",
   "execution_count": 1,
   "metadata": {
    "collapsed": true
   },
   "outputs": [
    {
     "data": {
      "text/plain": [
       "exception Empty\n"
      ]
     },
     "execution_count": 1,
     "metadata": {},
     "output_type": "execute_result"
    },
    {
     "data": {
      "text/plain": [
       "exception Subscript\n"
      ]
     },
     "execution_count": 1,
     "metadata": {},
     "output_type": "execute_result"
    },
    {
     "data": {
      "text/plain": [
       "module type Stack =\n",
       "  sig\n",
       "    type 'a t\n",
       "    val empty : 'a t\n",
       "    val isEmpty : 'a t -> bool\n",
       "    val cons : 'a -> 'a t -> 'a t\n",
       "    val head : 'a t -> 'a\n",
       "    val tail : 'a t -> 'a t\n",
       "    val ( ++ ) : 'a t -> 'a t -> 'a t\n",
       "    val update : 'a t -> int -> 'a -> 'a t\n",
       "  end\n"
      ]
     },
     "execution_count": 1,
     "metadata": {},
     "output_type": "execute_result"
    }
   ],
   "source": [
    "exception Empty\n",
    "exception Subscript\n",
    "\n",
    "module type Stack = sig\n",
    "  type 'a t\n",
    "\n",
    "  val empty: 'a t\n",
    "  val isEmpty: 'a t -> bool\n",
    "  \n",
    "  val cons: 'a -> 'a t -> 'a t\n",
    "  val head: 'a t -> 'a             (* raises Empty *)\n",
    "  val tail: 'a t -> 'a t       (* raises Empty *)\n",
    "  \n",
    "  val (++): 'a t -> 'a t -> 'a t\n",
    "  val update: 'a t -> int -> 'a -> 'a t       (* raises Subscript *)\n",
    "end"
   ]
  },
  {
   "cell_type": "markdown",
   "metadata": {},
   "source": [
    "this can be implemented in various ways."
   ]
  },
  {
   "cell_type": "code",
   "execution_count": 2,
   "metadata": {},
   "outputs": [
    {
     "data": {
      "text/plain": [
       "module NativeList : Stack\n"
      ]
     },
     "execution_count": 2,
     "metadata": {},
     "output_type": "execute_result"
    }
   ],
   "source": [
    "module NativeList : Stack = struct\n",
    "  type 'a t = 'a list\n",
    "  \n",
    "  let empty = []\n",
    "  let isEmpty s = s = []\n",
    "  \n",
    "  let cons x s = x :: s\n",
    "  let head s = try List.hd s\n",
    "               with exn -> raise Empty\n",
    "  let tail s = try List.tl s\n",
    "               with exn -> raise Empty\n",
    "               \n",
    "  (*  Add update  *)\n",
    "  let rec update s i x = match (s, i, x) with\n",
    "    | ([], _, _) -> raise Subscript\n",
    "    | (y::ys, 0, x) -> x::ys\n",
    "    | (y::ys, n, x) -> y::(update ys (n-1) x)\n",
    "  \n",
    "  let (++) = List.append\n",
    "end"
   ]
  },
  {
   "cell_type": "code",
   "execution_count": 3,
   "metadata": {},
   "outputs": [
    {
     "data": {
      "text/plain": [
       "module CustomList : Stack\n"
      ]
     },
     "execution_count": 3,
     "metadata": {},
     "output_type": "execute_result"
    }
   ],
   "source": [
    "module CustomList : Stack = struct\n",
    "  type 'a t = Nil | Cons of 'a * 'a t\n",
    "  \n",
    "  let empty = Nil\n",
    "  let isEmpty s = s = Nil\n",
    "  \n",
    "  let cons x s = Cons (x, s)\n",
    "  let head = function\n",
    "    | Nil -> raise Empty\n",
    "    | Cons (x, _) -> x\n",
    "  let tail = function\n",
    "    | Nil -> raise Empty\n",
    "    | Cons (_, s) -> s\n",
    "    \n",
    "  (*  Add Update  *)\n",
    "  let rec update s i x = match (s, i, x) with\n",
    "    | (Nil, _, _) -> raise Subscript\n",
    "    | (Cons (y, ys), 0, x) -> Cons (x, ys)\n",
    "    | (Cons (y, ys), n, x) -> Cons (y, update ys (n-1) x)\n",
    "  \n",
    "  let rec (++) xss yss = match (xss, yss) with\n",
    "    | (_, Nil) -> xss\n",
    "    | (Nil, _) -> yss\n",
    "    | (Cons (x, xs), _) -> Cons (x, (xs ++ yss))\n",
    "end"
   ]
  },
  {
   "cell_type": "markdown",
   "metadata": {},
   "source": [
    "The most important part is the implementation of Update"
   ]
  },
  {
   "cell_type": "markdown",
   "metadata": {},
   "source": [
    "### Excercise 2.1\n",
    "\n",
    "Write a function `suffixes: 'a stack -> 'a stack stack` that takes a list `xs` and returns a list of all the suffixes of `xs` in descending order of length"
   ]
  },
  {
   "cell_type": "code",
   "execution_count": 4,
   "metadata": {
    "scrolled": true
   },
   "outputs": [
    {
     "data": {
      "text/plain": [
       "val suffixes : 'a list -> 'a list list = <fun>\n"
      ]
     },
     "execution_count": 4,
     "metadata": {},
     "output_type": "execute_result"
    }
   ],
   "source": [
    "let rec suffixes = function\n",
    "  | [] -> [[]]\n",
    "  | hd::tl as xs -> xs::(suffixes tl)"
   ]
  },
  {
   "cell_type": "code",
   "execution_count": 5,
   "metadata": {},
   "outputs": [
    {
     "data": {
      "text/plain": [
       "- : int list list = [[1; 2; 3; 4]; [2; 3; 4]; [3; 4]; [4]; []]\n"
      ]
     },
     "execution_count": 5,
     "metadata": {},
     "output_type": "execute_result"
    }
   ],
   "source": [
    "suffixes [1;2;3;4]"
   ]
  },
  {
   "cell_type": "markdown",
   "metadata": {},
   "source": [
    "## Trees"
   ]
  },
  {
   "cell_type": "code",
   "execution_count": 6,
   "metadata": {
    "collapsed": true
   },
   "outputs": [
    {
     "data": {
      "text/plain": [
       "module type Set =\n",
       "  sig\n",
       "    type e\n",
       "    type t\n",
       "    val empty : t\n",
       "    val insert : e -> t -> t\n",
       "    val member : e -> t -> bool\n",
       "  end\n"
      ]
     },
     "execution_count": 6,
     "metadata": {},
     "output_type": "execute_result"
    }
   ],
   "source": [
    "module type Set = sig\n",
    "  type e\n",
    "  type t\n",
    "  \n",
    "  val empty: t\n",
    "  val insert: e -> t -> t\n",
    "  val member: e -> t -> bool\n",
    "end"
   ]
  },
  {
   "cell_type": "code",
   "execution_count": 7,
   "metadata": {},
   "outputs": [
    {
     "data": {
      "text/plain": [
       "module type Ordered = sig type t val compare : t -> t -> int end\n"
      ]
     },
     "execution_count": 7,
     "metadata": {},
     "output_type": "execute_result"
    }
   ],
   "source": [
    "module type Ordered = sig\n",
    "  type t\n",
    "\n",
    "  val compare : t -> t -> int\n",
    "end"
   ]
  },
  {
   "cell_type": "code",
   "execution_count": 8,
   "metadata": {
    "collapsed": true
   },
   "outputs": [
    {
     "data": {
      "text/plain": [
       "module UnbalancedSst :\n",
       "  functor (Elem : Ordered) ->\n",
       "    sig\n",
       "      type e = Elem.t\n",
       "      type t\n",
       "      val empty : t\n",
       "      val insert : e -> t -> t\n",
       "      val member : e -> t -> bool\n",
       "    end\n"
      ]
     },
     "execution_count": 8,
     "metadata": {},
     "output_type": "execute_result"
    }
   ],
   "source": [
    "module UnbalancedSst (Elem : Ordered) : (Set with type e = Elem.t) =\n",
    "struct\n",
    "  type e = Elem.t\n",
    "  type t = Empty | Tree of t * e * t\n",
    "  \n",
    "  let empty = Empty\n",
    "  let rec member x = function\n",
    "    | Empty -> false\n",
    "    | Tree (l, y, r) -> match Elem.compare x y with\n",
    "      | 0 -> true\n",
    "      | n when n < 0 -> member x l\n",
    "      | _ -> member x r\n",
    "      \n",
    "  let rec insert x = function\n",
    "    | Empty -> Tree (Empty, x, Empty)\n",
    "    | Tree (l, y, r) as s -> match Elem.compare x y with\n",
    "      | 0 -> s\n",
    "      | n when n < 0 -> Tree (insert x l, y, r)\n",
    "      | _ -> Tree (l, y, insert x r)\n",
    "end"
   ]
  },
  {
   "cell_type": "code",
   "execution_count": null,
   "metadata": {},
   "outputs": [],
   "source": []
  }
 ],
 "metadata": {
  "kernelspec": {
   "display_name": "OCaml system",
   "language": "OCaml",
   "name": "ocaml-jupyter"
  },
  "language_info": {
   "codemirror_mode": "text/x-ocaml",
   "file_extension": ".ml",
   "mimetype": "text/x-ocaml",
   "name": "OCaml",
   "nbconverter_exporter": null,
   "pygments_lexer": "OCaml",
   "version": "4.06.1"
  }
 },
 "nbformat": 4,
 "nbformat_minor": 2
}
